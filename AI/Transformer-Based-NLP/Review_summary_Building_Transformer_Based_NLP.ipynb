{
 "cells": [
  {
   "cell_type": "markdown",
   "metadata": {},
   "source": [
    "# Building Transformer-Based Natural Language Processing Applications\n",
    "### Self-Supervision, BERT, and Beyond\n",
    "\n",
    "The goal of this lab is to build two example NLP (Natural Language Processing) application tasks, *text classification* and *named entity recognition (NER)*, by transferring knowledge from large, high-performing pre-trained transformer-based language models. <br>"
   ]
  },
  {
   "cell_type": "markdown",
   "metadata": {},
   "source": [
    "1. [Explore the Data](010_ExploreData.ipynb)<br>\n",
    "    Datasets drawn from the [NCBI-disease corpus](https://www.ncbi.nlm.nih.gov/CBBresearch/Dogan/DISEASE/), which consists of 793 annotated PubMed abstracts. You'll explore the details of these datasets, to gain insight into how you can adapt _your own datasets_ to these types of applications.<br>\n",
    "    explore:\n",
    "    - The Corpus Annotated Data\n",
    "    - The Text Classification Dataset\n",
    "    - The NER Dataset\n",
    "<br><br>\n",
    "1. [Build a Text Classifier](020_TextClassification.ipynb)<br>\n",
    "    Build a BERT-based multi-class text classification project using the [NVIDIA NeMo](https://developer.nvidia.com/nvidia-nemo) open-source toolkit.  The framework is based on [PyTorch Lightning](https://www.pytorchlightning.ai/).<br>\n",
    "    - Build a Text Classification Project\n",
    "    - Quickly Run Experiments from the Command Line\n",
    "    - Train and Test with PyTorch Lightning    \n",
    "    - Select a Pretrained BERT model\n",
    "    - Visualize the Model Accuracy\n",
    "<br><br>\n",
    "1. [Build a Named Entity Recognizer](030_NamedEntityRecognition.ipynb)<br>\n",
    "   Build a domain-specific NER (named entity recognition) project with NVIDIA NeMo.<br>\n",
    "    - Build a Token Classification (NER task) Project\n",
    "    - Train a Token Classifier from the Command Line\n",
    "    - Apply a Domain-Specific Model\n",
    "    - Test the NER Model from a Saved Checkpoint"
   ]
  },
  {
   "cell_type": "markdown",
   "metadata": {},
   "source": [
    "### Production Deployment\n",
    "\n",
    "Deploy a NLP model to a production inference server. \n",
    "\n",
    "NVIDIA Triton Inference Server.  The \"results\" you'll get from production inference are the same as when using the model's framework directly, but using Triton has additional benefits:\n",
    "* Concurrent model execution (can run multiple models simultaneously)\n",
    "* Dynamic batching (better throughput)\n",
    "* Model hot replacement (can update while server is running)\n",
    "* Docker container available (portable)\n",
    "* Multiple framework support (TensorRT, TensorFlow, PyTorch, ONNX)\n",
    "\n",
    "1. [Exporting the Model](010_ExportingTheModel.ipynb)<br/>\n",
    "    - Convert a model trained in PyTorch into a server-efficient format<br/>\n",
    "    - Apply reduced precision and TensorRT model optimizations <br/>\n",
    "2. [Hosting the Model](020_HostingTheModel.ipynb)<br/>\n",
    "    - Deploy the model to production using an NVIDIA Triton Inference Server<br/>\n",
    "    - Control some of the basic features of NVIDIA Triton via the model configuration. <br/>\n",
    "    - Evaluate the impact of export format and configuration choices on performance and cost<br/>\n",
    "3. [Server Performance](030_ServerPerformance.ipynb)<br/>\n",
    "    - Evaluate the impact different Triton configuration options on serving performance<br/>\n",
    "    - Monitor the performance of inference in production <br/>\n",
    "4. [Using the Model](040_UsingTheModel.ipynb)<br/>\n",
    "    - Build a simple application that can take advantage of the API exposed by Triton<br/>\n",
    "    - Discuss the options for more complex application and model pipeline deployments<br/>\n"
   ]
  }
 ],
 "metadata": {
  "kernelspec": {
   "display_name": "Python 3 (ipykernel)",
   "language": "python",
   "name": "python3"
  },
  "language_info": {
   "codemirror_mode": {
    "name": "ipython",
    "version": 3
   },
   "file_extension": ".py",
   "mimetype": "text/x-python",
   "name": "python",
   "nbconvert_exporter": "python",
   "pygments_lexer": "ipython3",
   "version": "3.12.4"
  }
 },
 "nbformat": 4,
 "nbformat_minor": 4
}

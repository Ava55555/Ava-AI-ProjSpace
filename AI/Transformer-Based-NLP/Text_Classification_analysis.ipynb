{
 "cells": [
  {
   "cell_type": "markdown",
   "metadata": {},
   "source": [
    "Authorship attribution is a type of text classification analysis.  Instead of categorizing text by _topic_, as you did in the disease text classification problem, the objective is to classify the text by _author_.  \n",
    "\n",
    "The inherent assumption in trying to solve a problem like this is that there is *some difference between the styles* of the authors in question, *which can be discerned by a model*.  Is that the case for BERT et al?  Is a language model able to \"understand\" written style? "
   ]
  },
  {
   "cell_type": "markdown",
   "metadata": {},
   "source": [
    "### Table of Contents\n",
    "[The Problem](#The-Problem)<br>\n",
    "[Step 1: Prepare the Data](#Step-1:-Prepare-the-Data)<br>\n",
    "[Step 2: Prepare the Model Configuration](#Step-2:-Prepare-the-Model-Configuration)<br>\n",
    "[Step 3: Prepare the Trainer Configuration](#Step-3:-Prepare-the-Trainer-Configuration)<br>\n",
    "[Step 4: Train](#Step-4:-Train)<br>\n",
    "[Step 5: Infer](#Step-5:-Infer)<br>\n"
   ]
  },
  {
   "cell_type": "markdown",
   "metadata": {},
   "source": [
    "---\n",
    "# The Problem\n",
    "### The Federalist Papers - History Mystery!\n",
    "\n",
    "The [Federalist Papers](https://en.wikipedia.org/wiki/The_Federalist_Papers) are a set of essays written between 1787 and 1788 by [Alexander Hamilton](https://en.wikipedia.org/wiki/Alexander_Hamilton), [James Madison](https://en.wikipedia.org/wiki/James_Madison) and [John Jay](https://en.wikipedia.org/wiki/John_Jay).  Initially published under the pseudonym 'Publius', their intent was to encourage the ratification of the then-new Constitution of the United States of America.  In later years, a list emerged where the author of each one of the 85 papers was identified.  Nevertheless, for a subset of these papers the author is still in question.  The problem of the Federalist Papers authorship attribution has been a subject of much research in statistical NLP in the past.   Now you will try to solve this question with your own BERT-based project model.\n",
    "<img style=\"float: right;\" src=\"images/HandM.png\" width=400>\n",
    "                                                                                                           \n",
    "In concrete terms, the problem is identifying, for each one of the disputed papers, whether Alexander Hamilton or James Madison are the authors. you can assume that each paper has a single author, i.e., that no collaboration took place (though *that* is not 100% certain!), and that each author has a well-defined writing style that is displayed across all the identified papers. \n",
    "\n",
    "### Project sample data\n",
    "play with with labeled `train.tsv` and `dev.tsv` datasets for the project.  There are 10 test sets, one for each of the disputed papers.  All datasets are contained in the `data/federalist_papers_HM` directory.  \n",
    "\n",
    "Each \"sentence\" is actually a group of sentences of approximately 256 words.  The labels are '0' for HAMILTON and '1' for MADISON.  There are more papers by Hamilton in the example files than by Madison.  The validation set has been created with approximately the same distribution of the two labels as in the training set.\n",
    "\n",
    "Build neural networks using NeMo.  You'll train your model and test it.  Then you'll use provided collation code to see what answers your model gives to the \"history mystery\"! "
   ]
  },
  {
   "cell_type": "markdown",
   "metadata": {},
   "source": [
    "change parameters such as model name, sequence length, batch size, learning rate, number of epochs, and so on to improve your model as you see fit.\n",
    "\n",
    "### Resources and Hints\n",
    "\n",
    "* **Language model (PRETRAINED_MODEL_NAME):**<br>\n",
    "You may find it useful to try different language models to better discern style.  Specifically, it may be that capitalization is important, which would mean you'd want to try a \"cased\" model.\n",
    "* **Maximum sequence length (MAX_SEQ_LEN):**<br>\n",
    "Values that can be used for MAX_SEQ_LENGTH are 64, 128, or 256.  Larger models (BERT-large, Megatron) may require a smaller MAX_SEQ_LENGTH to avoid an out-of-memory error.\n",
    "* **Number of Classes (NUM_CLASSES):**<br>\n",
    "For the Federalist Papers, we are only concerned with HAMILTON and MADISON.  The papers by John Jay have been excluded from the dataset.\n",
    "* **Batch size (BATCH_SIZE):**<br>\n",
    "Larger batch sizes train faster, but large language models tend to use up the available memory quickly.\n",
    "* **Memory usage:**<br>\n",
    "Some of the models are very large.   If you get \"RuntimeError: CUDA out of memory\" during training, you'll know you need to reduce the batch size, sequence length, and/or choose a smaller language model, restart the kernel, and try again from the beginning of the notebook.\n",
    "* **Accuracy and loss:**<br>\n",
    "It is definitely possible to achieve 95% or more model accuracy for this project.  In addition to changes in accuracy as the model trains, pay attention to the loss value.  You want the loss value to be dropping and getting very small for best results.\n",
    "* **Number of epochs (NUM_EPOCHS):**<br>\n",
    "You may need to run more epochs for your model (or not!)."
   ]
  },
  {
   "cell_type": "markdown",
   "metadata": {},
   "source": [
    "---\n",
    "# Step 1: Prepare the Data"
   ]
  },
  {
   "cell_type": "code",
   "execution_count": 1,
   "metadata": {},
   "outputs": [],
   "source": [
    "# Import useful utilities for grading\n",
    "import os\n",
    "import json\n",
    "import glob\n",
    "from omegaconf import OmegaConf\n",
    "\n",
    "def get_latest_model():  \n",
    "    nemo_model_paths = glob.glob('nemo_experiments/TextClassification/*/checkpoints/*.nemo')\n",
    "    # Sort newest first\n",
    "    nemo_model_paths.sort(reverse=True)\n",
    "    return nemo_model_paths[0]"
   ]
  },
  {
   "cell_type": "markdown",
   "metadata": {},
   "source": [
    "The data is located in the data directory - see the list in the following cell:"
   ]
  },
  {
   "cell_type": "code",
   "execution_count": 2,
   "metadata": {},
   "outputs": [
    {
     "name": "stdout",
     "output_type": "stream",
     "text": [
      "dev.tsv   test49.tsv  test51.tsv  test53.tsv  test55.tsv  test57.tsv  train.tsv\n",
      "test.tsv  test50.tsv  test52.tsv  test54.tsv  test56.tsv  test62.tsv\n"
     ]
    }
   ],
   "source": [
    "DATA_DIR = '/dli/task/data/federalist_papers_HM'\n",
    "!ls $DATA_DIR"
   ]
  },
  {
   "cell_type": "markdown",
   "metadata": {},
   "source": [
    "## Data Format \n",
    "The data is not in the correct format for NeMo text classification.  Correct the data and save the new datasets in the DATA_DIR as `train_nemo_format.tsv` and `dev_nemo_format.tsv`.  You do not need to do anything with any of the test files.\n",
    "\n",
    "Complete the <i><strong style=\"color:green;\">#FIXME</strong></i> lines and run the save cell."
   ]
  },
  {
   "cell_type": "code",
   "execution_count": 4,
   "metadata": {},
   "outputs": [],
   "source": [
    "import pandas as pd\n",
    "\n",
    "# Function to reformat and save the dataset\n",
    "def reformat_and_save(file_path, save_path):\n",
    "    # Load the existing data\n",
    "    df = pd.read_csv(file_path, sep='\\t', header=0)\n",
    "\n",
    "    # Assuming the dataframe 'df' has the columns 'sentence' and 'label' in the correct order\n",
    "    # Rename the columns to match NeMo's expected format\n",
    "    df.columns = ['sentence', 'label']\n",
    "    \n",
    "    # Save the new dataframe to a tsv file\n",
    "    df.to_csv(save_path, sep='\\t', index=False, header=True)\n",
    "\n",
    "# Paths to the original and new files\n",
    "train_file_path = '/dli/task/data/federalist_papers_HM/train.tsv'  # path to your original train.tsv\n",
    "dev_file_path = '/dli/task/data/federalist_papers_HM/dev.tsv'      # path to your original dev.tsv\n",
    "train_save_path = '/dli/task/data/federalist_papers_HM/train_nemo_format.tsv'\n",
    "dev_save_path = '/dli/task/data/federalist_papers_HM/dev_nemo_format.tsv'\n",
    "\n",
    "# Reformat and save the train and dev datasets\n",
    "reformat_and_save(train_file_path, train_save_path)\n",
    "reformat_and_save(dev_file_path, dev_save_path)"
   ]
  },
  {
   "cell_type": "code",
   "execution_count": 5,
   "metadata": {
    "scrolled": true,
    "tags": []
   },
   "outputs": [
    {
     "name": "stdout",
     "output_type": "stream",
     "text": [
      "*****\n",
      "train_nemo_format.tsv sample\n",
      "*****\n",
      "sentence\tlabel\n",
      "Concerning Dangers from Dissensions Between the States For the Independent Journal .To the People of the State of New York : THE three last numbers of this paper have been dedicated to an enumeration of the dangers to which we should be exposed , in a state of disunion , from the arms and arts of foreign nations .I shall now proceed to delineate dangers of a different and , perhaps , still more alarming kind -- those which will in all probability flow from dissensions between the States themselves , and from domestic factions and convulsions .These have been already in some instances slightly anticipated ; but they deserve a more particular and more full investigation .A man must be far gone in Utopian speculations who can seriously doubt that , if these States should either be wholly disunited , or only united in partial confederacies , the subdivisions into which they might be thrown would have frequent and violent contests with each other .To presume a want of motives for such contests as an argument against their existence , would be to forget that men are ambitious , vindictive , and rapacious .To look for a continuation of harmony between a number of independent , unconnected sovereignties in the same neighborhood , would be to disregard the uniform course of human events , and to set at defiance the accumulated experience of ages .The causes of hostility among nations are innumerable .\t0\n",
      "There are some which have a general and almost constant operation upon the collective bodies of society .Of this description are the love of power or the desire of pre-eminence and dominion -- the jealousy of power , or the desire of equality and safety .There are others which have a more circumscribed though an equally operative influence within their spheres .Such are the rivalships and competitions of commerce between commercial nations .And there are others , not less numerous than either of the former , which take their origin entirely in private passions ; in the attachments , enmities , interests , hopes , and fears of leading individuals in the communities of which they are members .Men of this class , whether the favorites of a king or of a people , have in too many instances abused the confidence they possessed ; and assuming the pretext of some public motive , have not scrupled to sacrifice the national tranquillity to personal advantage or personal gratification .The celebrated Pericles , in compliance with the resentment of a prostitute,1 at the expense of much of the blood and treasure of his countrymen , attacked , vanquished , and destroyed the city of the SAMNIANS .The same man , stimulated by private pique against the MEGARENSIANS,2 another nation of Greece , or to avoid a prosecution with which he was threatened as an accomplice of a supposed theft of the statuary Phidias,3 or to get rid of the accusations prepared to be brought against him for dissipating the funds of the state in the purchase of popularity,4 or from a combination of all these causes , was the primitive author of that famous and fatal war , distinguished in the Grecian annals by the name of the PELOPONNESIAN war ; which , after various vicissitudes , intermissions , and renewals , terminated in the ruin of the Athenian commonwealth .\t0\n",
      "\n",
      "\n",
      "*****\n",
      "dev_nemo_format.tsv sample\n",
      "*****\n",
      "sentence\tlabel\n",
      "There have been , if I may so express it , almost as many popular as royal wars .The cries of the nation and the importunities of their representatives have , upon various occasions , dragged their monarchs into war , or continued them in it , contrary to their inclinations , and sometimes contrary to the real interests of the State .In that memorable struggle for superiority between the rival houses of AUSTRIA and BOURBON , which so long kept Europe in a flame , it is well known that the antipathies of the English against the French , seconding the ambition , or rather the avarice , of a favorite leader,10 protracted the war beyond the limits marked out by sound policy , and for a considerable time in opposition to the views of the court .The wars of these two last-mentioned nations have in a great measure grown out of commercial considerations , -- the desire of supplanting and the fear of being supplanted , either in particular branches of traffic or in the general advantages of trade and navigation .From this summary of what has taken place in other countries , whose situations have borne the nearest resemblance to our own , what reason can we have to confide in those reveries which would seduce us into an expectation of peace and cordiality between the members of the present confederacy , in a state of separation ? Have we not already seen enough of the fallacy and extravagance of those idle theories which have amused us with promises of an exemption from the imperfections , weaknesses and evils incident to society in every shape ?\t0\n",
      "They would , at the same time , be necessitated to strengthen the executive arm of government , in doing which their constitutions would acquire a progressive direction toward monarchy .It is of the nature of war to increase the executive at the expense of the legislative authority .The expedients which have been mentioned would soon give the States or confederacies that made use of them a superiority over their neighbors .Small states , or states of less natural strength , under vigorous governments , and with the assistance of disciplined armies , have often triumphed over large states , or states of greater natural strength , which have been destitute of these advantages .Neither the pride nor the safety of the more important States or confederacies would permit them long to submit to this mortifying and adventitious superiority .They would quickly resort to means similar to those by which it had been effected , to reinstate themselves in their lost pre-eminence .Thus , we should , in a little time , see established in every part of this country the same engines of despotism which have been the scourge of the Old World .This , at least , would be the natural course of things ; and our reasonings will be the more likely to be just , in proportion as they are accommodated to this standard .These are not vague inferences drawn from supposed or speculative defects in a Constitution , the whole power of which is lodged in the hands of a people , or their representatives and delegates , but they are solid conclusions , drawn from the natural and necessary progress of human affairs .\t0\n"
     ]
    }
   ],
   "source": [
    "# check your work\n",
    "print(\"*****\\ntrain_nemo_format.tsv sample\\n*****\")\n",
    "!head -n 3 $DATA_DIR/train_nemo_format.tsv\n",
    "print(\"\\n\\n*****\\ndev_nemo_format.tsv sample\\n*****\")\n",
    "!head -n 3 $DATA_DIR/dev_nemo_format.tsv"
   ]
  },
  {
   "cell_type": "code",
   "execution_count": 7,
   "metadata": {},
   "outputs": [],
   "source": [
    "import os.path\n",
    "DATA_DIR = '/dli/task/data/federalist_papers_HM'\n",
    "step1 = []\n",
    "try:\n",
    "    with open(os.path.join(DATA_DIR,'train_nemo_format.tsv')) as f:\n",
    "        content = f.readlines()\n",
    "        step1 += content[:2]\n",
    "    with open(os.path.join(DATA_DIR,'dev_nemo_format.tsv')) as f:\n",
    "        content = f.readlines()\n",
    "        step1 += content[:2]\n",
    "except:\n",
    "    pass\n",
    "                \n",
    "with open(\"my_analysis/step1.json\", \"w\") as outfile: \n",
    "    json.dump(step1, outfile) "
   ]
  },
  {
   "cell_type": "markdown",
   "metadata": {},
   "source": [
    "---\n",
    "# Step 2: Prepare the Model Configuration\n",
    "Review the default model configuration and available language models."
   ]
  },
  {
   "cell_type": "code",
   "execution_count": 8,
   "metadata": {
    "scrolled": true,
    "tags": []
   },
   "outputs": [
    {
     "name": "stdout",
     "output_type": "stream",
     "text": [
      "nemo_path: text_classification_model.nemo\n",
      "tokenizer:\n",
      "  tokenizer_name: ${model.language_model.pretrained_model_name}\n",
      "  vocab_file: null\n",
      "  tokenizer_model: null\n",
      "  special_tokens: null\n",
      "language_model:\n",
      "  pretrained_model_name: bert-base-uncased\n",
      "  lm_checkpoint: null\n",
      "  config_file: null\n",
      "  config: null\n",
      "classifier_head:\n",
      "  num_output_layers: 2\n",
      "  fc_dropout: 0.1\n",
      "class_labels:\n",
      "  class_labels_file: null\n",
      "dataset:\n",
      "  num_classes: ???\n",
      "  do_lower_case: false\n",
      "  max_seq_length: 256\n",
      "  class_balancing: null\n",
      "  use_cache: false\n",
      "train_ds:\n",
      "  file_path: null\n",
      "  batch_size: 64\n",
      "  shuffle: true\n",
      "  num_samples: -1\n",
      "  num_workers: 3\n",
      "  drop_last: false\n",
      "  pin_memory: false\n",
      "validation_ds:\n",
      "  file_path: null\n",
      "  batch_size: 64\n",
      "  shuffle: false\n",
      "  num_samples: -1\n",
      "  num_workers: 3\n",
      "  drop_last: false\n",
      "  pin_memory: false\n",
      "test_ds:\n",
      "  file_path: null\n",
      "  batch_size: 64\n",
      "  shuffle: false\n",
      "  num_samples: -1\n",
      "  num_workers: 3\n",
      "  drop_last: false\n",
      "  pin_memory: false\n",
      "optim:\n",
      "  name: adam\n",
      "  lr: 2.0e-05\n",
      "  betas:\n",
      "  - 0.9\n",
      "  - 0.999\n",
      "  weight_decay: 0.01\n",
      "  sched:\n",
      "    name: WarmupAnnealing\n",
      "    warmup_steps: null\n",
      "    warmup_ratio: 0.1\n",
      "    last_epoch: -1\n",
      "    monitor: val_loss\n",
      "    reduce_on_plateau: false\n",
      "infer_samples:\n",
      "- by the end of no such thing the audience , like beatrice , has a watchful affection\n",
      "  for the monster .\n",
      "- director rob marshall went out gunning to make a great one .\n",
      "- uneasy mishmash of styles and genres .\n",
      "\n"
     ]
    }
   ],
   "source": [
    "# Take a look at the default model portion of the config file\n",
    "CONFIG_DIR = \"/dli/task/nemo/examples/nlp/text_classification/conf\"\n",
    "CONFIG_FILE = \"text_classification_config.yaml\"\n",
    "\n",
    "config = OmegaConf.load(CONFIG_DIR + \"/\" + CONFIG_FILE)\n",
    "print(OmegaConf.to_yaml(config.model))"
   ]
  },
  {
   "cell_type": "code",
   "execution_count": 9,
   "metadata": {
    "scrolled": true,
    "tags": []
   },
   "outputs": [
    {
     "data": {
      "text/plain": [
       "['megatron-bert-345m-uncased',\n",
       " 'megatron-bert-345m-cased',\n",
       " 'megatron-bert-uncased',\n",
       " 'megatron-bert-cased',\n",
       " 'biomegatron-bert-345m-uncased',\n",
       " 'biomegatron-bert-345m-cased',\n",
       " 'bert-base-uncased',\n",
       " 'bert-large-uncased',\n",
       " 'bert-base-cased',\n",
       " 'bert-large-cased',\n",
       " 'bert-base-multilingual-uncased',\n",
       " 'bert-base-multilingual-cased',\n",
       " 'bert-base-chinese',\n",
       " 'bert-base-german-cased',\n",
       " 'bert-large-uncased-whole-word-masking',\n",
       " 'bert-large-cased-whole-word-masking',\n",
       " 'bert-large-uncased-whole-word-masking-finetuned-squad',\n",
       " 'bert-large-cased-whole-word-masking-finetuned-squad',\n",
       " 'bert-base-cased-finetuned-mrpc',\n",
       " 'bert-base-german-dbmdz-cased',\n",
       " 'bert-base-german-dbmdz-uncased',\n",
       " 'cl-tohoku/bert-base-japanese',\n",
       " 'cl-tohoku/bert-base-japanese-whole-word-masking',\n",
       " 'cl-tohoku/bert-base-japanese-char',\n",
       " 'cl-tohoku/bert-base-japanese-char-whole-word-masking',\n",
       " 'TurkuNLP/bert-base-finnish-cased-v1',\n",
       " 'TurkuNLP/bert-base-finnish-uncased-v1',\n",
       " 'wietsedv/bert-base-dutch-cased',\n",
       " 'distilbert-base-uncased',\n",
       " 'distilbert-base-uncased-distilled-squad',\n",
       " 'distilbert-base-cased',\n",
       " 'distilbert-base-cased-distilled-squad',\n",
       " 'distilbert-base-german-cased',\n",
       " 'distilbert-base-multilingual-cased',\n",
       " 'distilbert-base-uncased-finetuned-sst-2-english',\n",
       " 'roberta-base',\n",
       " 'roberta-large',\n",
       " 'roberta-large-mnli',\n",
       " 'distilroberta-base',\n",
       " 'roberta-base-openai-detector',\n",
       " 'roberta-large-openai-detector',\n",
       " 'albert-base-v1',\n",
       " 'albert-large-v1',\n",
       " 'albert-xlarge-v1',\n",
       " 'albert-xxlarge-v1',\n",
       " 'albert-base-v2',\n",
       " 'albert-large-v2',\n",
       " 'albert-xlarge-v2',\n",
       " 'albert-xxlarge-v2']"
      ]
     },
     "execution_count": 9,
     "metadata": {},
     "output_type": "execute_result"
    }
   ],
   "source": [
    "# See what BERT-like language models are available\n",
    "from nemo.collections import nlp as nemo_nlp\n",
    "nemo_nlp.modules.get_pretrained_lm_models_list()"
   ]
  },
  {
   "cell_type": "code",
   "execution_count": 10,
   "metadata": {},
   "outputs": [],
   "source": [
    "# set the values\n",
    "NUM_CLASSES = 2\n",
    "MAX_SEQ_LENGTH = 128 \n",
    "BATCH_SIZE = 32 \n",
    "PATH_TO_TRAIN_FILE = \"/dli/task/data/federalist_papers_HM/train_nemo_format.tsv\"\n",
    "PATH_TO_VAL_FILE = \"/dli/task/data/federalist_papers_HM/dev_nemo_format.tsv\"\n",
    "PRETRAINED_MODEL_NAME = 'bert-base-uncased' # change as desired\n",
    "LR = 1e-4 # change as desired"
   ]
  },
  {
   "cell_type": "code",
   "execution_count": 11,
   "metadata": {},
   "outputs": [],
   "source": [
    "with open(\"my_analysis/step2.json\", \"w\") as outfile: \n",
    "    json.dump([MAX_SEQ_LENGTH, NUM_CLASSES, BATCH_SIZE], outfile) "
   ]
  },
  {
   "cell_type": "markdown",
   "metadata": {},
   "source": [
    "---\n",
    "# Step 3: Prepare the Trainer Configuration\n",
    "Review the default trainer and exp_manager configurations."
   ]
  },
  {
   "cell_type": "code",
   "execution_count": 12,
   "metadata": {},
   "outputs": [
    {
     "name": "stdout",
     "output_type": "stream",
     "text": [
      "gpus: 1\n",
      "num_nodes: 1\n",
      "max_epochs: 100\n",
      "max_steps: null\n",
      "accumulate_grad_batches: 1\n",
      "gradient_clip_val: 0.0\n",
      "amp_level: O0\n",
      "precision: 32\n",
      "accelerator: ddp\n",
      "log_every_n_steps: 1\n",
      "val_check_interval: 1.0\n",
      "resume_from_checkpoint: null\n",
      "num_sanity_val_steps: 0\n",
      "checkpoint_callback: false\n",
      "logger: false\n",
      "\n",
      "exp_dir: null\n",
      "name: TextClassification\n",
      "create_tensorboard_logger: true\n",
      "create_checkpoint_callback: true\n",
      "\n"
     ]
    }
   ],
   "source": [
    "print(OmegaConf.to_yaml(config.trainer))\n",
    "print(OmegaConf.to_yaml(config.exp_manager))"
   ]
  },
  {
   "cell_type": "markdown",
   "metadata": {},
   "source": [
    "## Set Parameters (graded)\n",
    "Set the automatic mixed precision to level 1 with FP16 precision.  Set the MAX_EPOCHS to a reasonable level, perhaps between 5 and 20.  "
   ]
  },
  {
   "cell_type": "code",
   "execution_count": 13,
   "metadata": {},
   "outputs": [],
   "source": [
    "# set the values\n",
    "MAX_EPOCHS = 5\n",
    "AMP_LEVEL = '01' \n",
    "PRECISION = 32 "
   ]
  },
  {
   "cell_type": "code",
   "execution_count": 14,
   "metadata": {},
   "outputs": [],
   "source": [
    "with open(\"my_analysis/step3.json\", \"w\") as outfile: \n",
    "    json.dump([MAX_EPOCHS, AMP_LEVEL, PRECISION], outfile) "
   ]
  },
  {
   "cell_type": "markdown",
   "metadata": {
    "tags": []
   },
   "source": [
    "---\n",
    "# Step 4: Train"
   ]
  },
  {
   "cell_type": "markdown",
   "metadata": {},
   "source": [
    "### Run the Trainer (graded)\n",
    "train and validation batch sizes, amp level, and precision.  "
   ]
  },
  {
   "cell_type": "code",
   "execution_count": 25,
   "metadata": {
    "scrolled": true,
    "tags": []
   },
   "outputs": [
    {
     "name": "stdout",
     "output_type": "stream",
     "text": [
      "[NeMo W 2024-03-19 19:41:22 nemo_logging:349] /opt/conda/lib/python3.8/site-packages/omegaconf/basecontainer.py:225: UserWarning: cfg.pretty() is deprecated and will be removed in a future version.\n",
      "    Use OmegaConf.to_yaml(cfg)\n",
      "    \n",
      "      warnings.warn(\n",
      "    \n",
      "[NeMo I 2024-03-19 19:41:22 text_classification_with_bert:110] \n",
      "    Config Params:\n",
      "    trainer:\n",
      "      gpus: 1\n",
      "      num_nodes: 1\n",
      "      max_epochs: 5\n",
      "      max_steps: null\n",
      "      accumulate_grad_batches: 1\n",
      "      gradient_clip_val: 0.0\n",
      "      amp_level: O1\n",
      "      precision: 16\n",
      "      accelerator: ddp\n",
      "      log_every_n_steps: 1\n",
      "      val_check_interval: 1.0\n",
      "      resume_from_checkpoint: null\n",
      "      num_sanity_val_steps: 0\n",
      "      checkpoint_callback: false\n",
      "      logger: false\n",
      "    model:\n",
      "      nemo_path: text_classification_model.nemo\n",
      "      tokenizer:\n",
      "        tokenizer_name: ${model.language_model.pretrained_model_name}\n",
      "        vocab_file: null\n",
      "        tokenizer_model: null\n",
      "        special_tokens: null\n",
      "      language_model:\n",
      "        pretrained_model_name: bert-base-uncased\n",
      "        lm_checkpoint: null\n",
      "        config_file: null\n",
      "        config: null\n",
      "      classifier_head:\n",
      "        num_output_layers: 2\n",
      "        fc_dropout: 0.1\n",
      "      class_labels:\n",
      "        class_labels_file: null\n",
      "      dataset:\n",
      "        num_classes: 2\n",
      "        do_lower_case: false\n",
      "        max_seq_length: 128\n",
      "        class_balancing: null\n",
      "        use_cache: false\n",
      "      train_ds:\n",
      "        file_path: /dli/task/data/federalist_papers_HM/train_nemo_format.tsv\n",
      "        batch_size: 32\n",
      "        shuffle: true\n",
      "        num_samples: -1\n",
      "        num_workers: 3\n",
      "        drop_last: false\n",
      "        pin_memory: false\n",
      "      validation_ds:\n",
      "        file_path: /dli/task/data/federalist_papers_HM/dev_nemo_format.tsv\n",
      "        batch_size: 32\n",
      "        shuffle: false\n",
      "        num_samples: -1\n",
      "        num_workers: 3\n",
      "        drop_last: false\n",
      "        pin_memory: false\n",
      "      test_ds:\n",
      "        file_path: null\n",
      "        batch_size: 64\n",
      "        shuffle: false\n",
      "        num_samples: -1\n",
      "        num_workers: 3\n",
      "        drop_last: false\n",
      "        pin_memory: false\n",
      "      optim:\n",
      "        name: adam\n",
      "        lr: 2.0e-05\n",
      "        betas:\n",
      "        - 0.9\n",
      "        - 0.999\n",
      "        weight_decay: 0.01\n",
      "        sched:\n",
      "          name: WarmupAnnealing\n",
      "          warmup_steps: null\n",
      "          warmup_ratio: 0.1\n",
      "          last_epoch: -1\n",
      "          monitor: val_loss\n",
      "          reduce_on_plateau: false\n",
      "      infer_samples: []\n",
      "    exp_manager:\n",
      "      exp_dir: null\n",
      "      name: TextClassification\n",
      "      create_tensorboard_logger: true\n",
      "      create_checkpoint_callback: true\n",
      "    \n",
      "GPU available: True, used: True\n",
      "TPU available: False, using: 0 TPU cores\n",
      "Using native 16bit precision.\n",
      "[NeMo I 2024-03-19 19:41:22 exp_manager:216] Experiments will be logged at /dli/task/nemo_experiments/TextClassification/2024-03-19_19-41-22\n",
      "[NeMo I 2024-03-19 19:41:22 exp_manager:563] TensorboardLogger has been set up\n",
      "Using bos_token, but it is not set yet.\n",
      "Using eos_token, but it is not set yet.\n",
      "[NeMo I 2024-03-19 19:41:23 text_classification_dataset:120] Read 503 examples from /dli/task/data/federalist_papers_HM/train_nemo_format.tsv.\n",
      "[NeMo I 2024-03-19 19:41:23 text_classification_dataset:238] *** Example ***\n",
      "[NeMo I 2024-03-19 19:41:23 text_classification_dataset:239] example 0: ['Nothing', 'can', 'be', 'more', 'evident', ',', 'than', 'that', 'an', 'exclusive', 'power', 'of', 'regulating', 'elections', 'for', 'the', 'national', 'government', ',', 'in', 'the', 'hands', 'of', 'the', 'State', 'legislatures', ',', 'would', 'leave', 'the', 'existence', 'of', 'the', 'Union', 'entirely', 'at', 'their', 'mercy', '.They', 'could', 'at', 'any', 'moment', 'annihilate', 'it', ',', 'by', 'neglecting', 'to', 'provide', 'for', 'the', 'choice', 'of', 'persons', 'to', 'administer', 'its', 'affairs', '.It', 'is', 'to', 'little', 'purpose', 'to', 'say', ',', 'that', 'a', 'neglect', 'or', 'omission', 'of', 'this', 'kind', 'would', 'not', 'be', 'likely', 'to', 'take', 'place', '.The', 'constitutional', 'possibility', 'of', 'the', 'thing', ',', 'without', 'an', 'equivalent', 'for', 'the', 'risk', ',', 'is', 'an', 'unanswerable', 'objection', '.Nor', 'has', 'any', 'satisfactory', 'reason', 'been', 'yet', 'assigned', 'for', 'incurring', 'that', 'risk', '.The', 'extravagant', 'surmises', 'of', 'a', 'distempered', 'jealousy', 'can', 'never', 'be', 'dignified', 'with', 'that', 'character', '.If', 'we', 'are', 'in', 'a', 'humor', 'to', 'presume', 'abuses', 'of', 'power', ',', 'it', 'is', 'as', 'fair', 'to', 'presume', 'them', 'on', 'the', 'part', 'of', 'the', 'State', 'governments', 'as', 'on', 'the', 'part', 'of', 'the', 'general', 'government', '.And', 'as', 'it', 'is', 'more', 'consonant', 'to', 'the', 'rules', 'of', 'a', 'just', 'theory', ',', 'to', 'trust', 'the', 'Union', 'with', 'the', 'care', 'of', 'its', 'own', 'existence', ',', 'than', 'to', 'transfer', 'that', 'care', 'to', 'any', 'other', 'hands', ',', 'if', 'abuses', 'of', 'power', 'are', 'to', 'be', 'hazarded', 'on', 'the', 'one', 'side', 'or', 'on', 'the', 'other', ',', 'it', 'is', 'more', 'rational', 'to', 'hazard', 'them', 'where', 'the', 'power', 'would', 'naturally', 'be', 'placed', ',', 'than', 'where', 'it', 'would', 'unnaturally', 'be', 'placed', '.Suppose', 'an', 'article', 'had', 'been', 'introduced', 'into', 'the', 'Constitution', ',', 'empowering', 'the', 'United', 'States', 'to', 'regulate', 'the', 'elections', 'for', 'the', 'particular', 'States', ',', 'would', 'any', 'man', 'have', 'hesitated', 'to', 'condemn', 'it', ',', 'both', 'as', 'an', 'unwarrantable', 'transposition', 'of', 'power', ',', 'and', 'as', 'a', 'premeditated', 'engine', 'for', 'the', 'destruction', 'of', 'the', 'State', 'governments', '?']\n",
      "[NeMo I 2024-03-19 19:41:23 text_classification_dataset:240] subtokens: [CLS] nothing can be more evident , than that an exclusive power of regulating elections for the national government , in the hands of the state legislatures , would leave the existence of the union entirely at their mercy . they could at any moment ann ##ih ##ila ##te it , by neglect ##ing to provide for the choice of persons to administer its affairs . it is to little purpose to say , that a neglect or om ##iss ##ion of this kind would not be likely to take place . the constitutional possibility of the thing , without an equivalent for the risk , is an una ##ns ##wer ##able objection . nor has any satisfactory reason been yet assigned for inc ##ur ##ring that risk [SEP]\n",
      "[NeMo I 2024-03-19 19:41:23 text_classification_dataset:241] input_ids: 101 2498 2064 2022 2062 10358 1010 2084 2008 2019 7262 2373 1997 21575 3864 2005 1996 2120 2231 1010 1999 1996 2398 1997 1996 2110 27977 1010 2052 2681 1996 4598 1997 1996 2586 4498 2012 2037 8673 1012 2027 2071 2012 2151 2617 5754 19190 11733 2618 2009 1010 2011 19046 2075 2000 3073 2005 1996 3601 1997 5381 2000 21497 2049 3821 1012 2009 2003 2000 2210 3800 2000 2360 1010 2008 1037 19046 2030 18168 14643 3258 1997 2023 2785 2052 2025 2022 3497 2000 2202 2173 1012 1996 6543 6061 1997 1996 2518 1010 2302 2019 5662 2005 1996 3891 1010 2003 2019 14477 3619 13777 3085 22224 1012 4496 2038 2151 23045 3114 2042 2664 4137 2005 4297 3126 4892 2008 3891 102\n",
      "[NeMo I 2024-03-19 19:41:23 text_classification_dataset:242] segment_ids: 0 0 0 0 0 0 0 0 0 0 0 0 0 0 0 0 0 0 0 0 0 0 0 0 0 0 0 0 0 0 0 0 0 0 0 0 0 0 0 0 0 0 0 0 0 0 0 0 0 0 0 0 0 0 0 0 0 0 0 0 0 0 0 0 0 0 0 0 0 0 0 0 0 0 0 0 0 0 0 0 0 0 0 0 0 0 0 0 0 0 0 0 0 0 0 0 0 0 0 0 0 0 0 0 0 0 0 0 0 0 0 0 0 0 0 0 0 0 0 0 0 0 0 0 0 0 0 0 0\n",
      "[NeMo I 2024-03-19 19:41:23 text_classification_dataset:243] input_mask: 1 1 1 1 1 1 1 1 1 1 1 1 1 1 1 1 1 1 1 1 1 1 1 1 1 1 1 1 1 1 1 1 1 1 1 1 1 1 1 1 1 1 1 1 1 1 1 1 1 1 1 1 1 1 1 1 1 1 1 1 1 1 1 1 1 1 1 1 1 1 1 1 1 1 1 1 1 1 1 1 1 1 1 1 1 1 1 1 1 1 1 1 1 1 1 1 1 1 1 1 1 1 1 1 1 1 1 1 1 1 1 1 1 1 1 1 1 1 1 1 1 1 1 1 1 1 1 1 1\n",
      "[NeMo I 2024-03-19 19:41:23 text_classification_dataset:244] label: 0\n",
      "[NeMo I 2024-03-19 19:41:23 text_classification_dataset:238] *** Example ***\n",
      "[NeMo I 2024-03-19 19:41:23 text_classification_dataset:239] example 1: ['But', 'they', 'seem', 'not', 'to', 'have', 'been', 'apprised', 'of', 'the', 'sentiments', 'of', 'that', 'great', 'man', 'expressed', 'in', 'another', 'part', 'of', 'his', 'work', ',', 'nor', 'to', 'have', 'adverted', 'to', 'the', 'consequences', 'of', 'the', 'principle', 'to', 'which', 'they', 'subscribe', 'with', 'such', 'ready', 'acquiescence', '.When', 'Montesquieu', 'recommends', 'a', 'small', 'extent', 'for', 'republics', ',', 'the', 'standards', 'he', 'had', 'in', 'view', 'were', 'of', 'dimensions', 'far', 'short', 'of', 'the', 'limits', 'of', 'almost', 'every', 'one', 'of', 'these', 'States', '.Neither', 'Virginia', ',', 'Massachusetts', ',', 'Pennsylvania', ',', 'New', 'York', ',', 'North', 'Carolina', ',', 'nor', 'Georgia', 'can', 'by', 'any', 'means', 'be', 'compared', 'with', 'the', 'models', 'from', 'which', 'he', 'reasoned', 'and', 'to', 'which', 'the', 'terms', 'of', 'his', 'description', 'apply', '.If', 'we', 'therefore', 'take', 'his', 'ideas', 'on', 'this', 'point', 'as', 'the', 'criterion', 'of', 'truth', ',', 'we', 'shall', 'be', 'driven', 'to', 'the', 'alternative', 'either', 'of', 'taking', 'refuge', 'at', 'once', 'in', 'the', 'arms', 'of', 'monarchy', ',', 'or', 'of', 'splitting', 'ourselves', 'into', 'an', 'infinity', 'of', 'little', ',', 'jealous', ',', 'clashing', ',', 'tumultuous', 'commonwealths', ',', 'the', 'wretched', 'nurseries', 'of', 'unceasing', 'discord', ',', 'and', 'the', 'miserable', 'objects', 'of', 'universal', 'pity', 'or', 'contempt', '.Some', 'of', 'the', 'writers', 'who', 'have', 'come', 'forward', 'on', 'the', 'other', 'side', 'of', 'the', 'question', 'seem', 'to', 'have', 'been', 'aware', 'of', 'the', 'dilemma', ';', 'and', 'have', 'even', 'been', 'bold', 'enough', 'to', 'hint', 'at', 'the', 'division', 'of', 'the', 'larger', 'States', 'as', 'a', 'desirable', 'thing', '.Such', 'an', 'infatuated', 'policy', ',', 'such', 'a', 'desperate', 'expedient', ',', 'might', ',', 'by', 'the', 'multiplication', 'of', 'petty', 'offices', ',', 'answer', 'the', 'views', 'of', 'men', 'who', 'possess', 'not', 'qualifications', 'to', 'extend', 'their', 'influence', 'beyond', 'the', 'narrow', 'circles', 'of', 'personal', 'intrigue', ',', 'but', 'it', 'could', 'never', 'promote', 'the', 'greatness', 'or', 'happiness', 'of', 'the', 'people', 'of', 'America', '.']\n",
      "[NeMo I 2024-03-19 19:41:23 text_classification_dataset:240] subtokens: [CLS] but they seem not to have been app ##rise ##d of the sentiments of that great man expressed in another part of his work , nor to have ad ##verted to the consequences of the principle to which they sub ##scribe with such ready ac ##qui ##escence . when monte ##s ##qui ##eu recommends a small extent for republics , the standards he had in view were of dimensions far short of the limits of almost every one of these states . neither virginia , massachusetts , pennsylvania , new york , north carolina , nor georgia can by any means be compared with the models from which he reasoned and to which the terms of his description apply . if we therefore take his ideas on [SEP]\n",
      "[NeMo I 2024-03-19 19:41:23 text_classification_dataset:241] input_ids: 101 2021 2027 4025 2025 2000 2031 2042 10439 29346 2094 1997 1996 23541 1997 2008 2307 2158 5228 1999 2178 2112 1997 2010 2147 1010 4496 2000 2031 4748 26686 2000 1996 8465 1997 1996 6958 2000 2029 2027 4942 29234 2007 2107 3201 9353 15549 28964 1012 2043 10125 2015 15549 13765 26021 1037 2235 6698 2005 24822 1010 1996 4781 2002 2018 1999 3193 2020 1997 9646 2521 2460 1997 1996 6537 1997 2471 2296 2028 1997 2122 2163 1012 4445 3448 1010 4404 1010 3552 1010 2047 2259 1010 2167 3792 1010 4496 4108 2064 2011 2151 2965 2022 4102 2007 1996 4275 2013 2029 2002 24557 1998 2000 2029 1996 3408 1997 2010 6412 6611 1012 2065 2057 3568 2202 2010 4784 2006 102\n",
      "[NeMo I 2024-03-19 19:41:23 text_classification_dataset:242] segment_ids: 0 0 0 0 0 0 0 0 0 0 0 0 0 0 0 0 0 0 0 0 0 0 0 0 0 0 0 0 0 0 0 0 0 0 0 0 0 0 0 0 0 0 0 0 0 0 0 0 0 0 0 0 0 0 0 0 0 0 0 0 0 0 0 0 0 0 0 0 0 0 0 0 0 0 0 0 0 0 0 0 0 0 0 0 0 0 0 0 0 0 0 0 0 0 0 0 0 0 0 0 0 0 0 0 0 0 0 0 0 0 0 0 0 0 0 0 0 0 0 0 0 0 0 0 0 0 0 0 0\n",
      "[NeMo I 2024-03-19 19:41:23 text_classification_dataset:243] input_mask: 1 1 1 1 1 1 1 1 1 1 1 1 1 1 1 1 1 1 1 1 1 1 1 1 1 1 1 1 1 1 1 1 1 1 1 1 1 1 1 1 1 1 1 1 1 1 1 1 1 1 1 1 1 1 1 1 1 1 1 1 1 1 1 1 1 1 1 1 1 1 1 1 1 1 1 1 1 1 1 1 1 1 1 1 1 1 1 1 1 1 1 1 1 1 1 1 1 1 1 1 1 1 1 1 1 1 1 1 1 1 1 1 1 1 1 1 1 1 1 1 1 1 1 1 1 1 1 1 1\n",
      "[NeMo I 2024-03-19 19:41:23 text_classification_dataset:244] label: 0\n",
      "[NeMo W 2024-03-19 19:41:32 text_classification_dataset:250] Found 502 out of 502 sentences with more than 128 subtokens. Truncated long sentences from the end.\n",
      "[NeMo I 2024-03-19 19:41:32 data_preprocessing:299] Some stats of the lengths of the sequences:\n",
      "[NeMo I 2024-03-19 19:41:32 data_preprocessing:301] Min: 129 |                  Max: 129 |                  Mean: 129.0 |                  Median: 129.0\n",
      "[NeMo I 2024-03-19 19:41:32 data_preprocessing:307] 75 percentile: 129.00\n",
      "[NeMo I 2024-03-19 19:41:32 data_preprocessing:308] 99 percentile: 129.00\n",
      "[NeMo I 2024-03-19 19:41:32 text_classification_dataset:120] Read 116 examples from /dli/task/data/federalist_papers_HM/dev_nemo_format.tsv.\n",
      "[NeMo I 2024-03-19 19:41:32 text_classification_dataset:238] *** Example ***\n",
      "[NeMo I 2024-03-19 19:41:32 text_classification_dataset:239] example 0: ['There', 'have', 'been', ',', 'if', 'I', 'may', 'so', 'express', 'it', ',', 'almost', 'as', 'many', 'popular', 'as', 'royal', 'wars', '.The', 'cries', 'of', 'the', 'nation', 'and', 'the', 'importunities', 'of', 'their', 'representatives', 'have', ',', 'upon', 'various', 'occasions', ',', 'dragged', 'their', 'monarchs', 'into', 'war', ',', 'or', 'continued', 'them', 'in', 'it', ',', 'contrary', 'to', 'their', 'inclinations', ',', 'and', 'sometimes', 'contrary', 'to', 'the', 'real', 'interests', 'of', 'the', 'State', '.In', 'that', 'memorable', 'struggle', 'for', 'superiority', 'between', 'the', 'rival', 'houses', 'of', 'AUSTRIA', 'and', 'BOURBON', ',', 'which', 'so', 'long', 'kept', 'Europe', 'in', 'a', 'flame', ',', 'it', 'is', 'well', 'known', 'that', 'the', 'antipathies', 'of', 'the', 'English', 'against', 'the', 'French', ',', 'seconding', 'the', 'ambition', ',', 'or', 'rather', 'the', 'avarice', ',', 'of', 'a', 'favorite', 'leader,10', 'protracted', 'the', 'war', 'beyond', 'the', 'limits', 'marked', 'out', 'by', 'sound', 'policy', ',', 'and', 'for', 'a', 'considerable', 'time', 'in', 'opposition', 'to', 'the', 'views', 'of', 'the', 'court', '.The', 'wars', 'of', 'these', 'two', 'last-mentioned', 'nations', 'have', 'in', 'a', 'great', 'measure', 'grown', 'out', 'of', 'commercial', 'considerations', ',', '--', 'the', 'desire', 'of', 'supplanting', 'and', 'the', 'fear', 'of', 'being', 'supplanted', ',', 'either', 'in', 'particular', 'branches', 'of', 'traffic', 'or', 'in', 'the', 'general', 'advantages', 'of', 'trade', 'and', 'navigation', '.From', 'this', 'summary', 'of', 'what', 'has', 'taken', 'place', 'in', 'other', 'countries', ',', 'whose', 'situations', 'have', 'borne', 'the', 'nearest', 'resemblance', 'to', 'our', 'own', ',', 'what', 'reason', 'can', 'we', 'have', 'to', 'confide', 'in', 'those', 'reveries', 'which', 'would', 'seduce', 'us', 'into', 'an', 'expectation', 'of', 'peace', 'and', 'cordiality', 'between', 'the', 'members', 'of', 'the', 'present', 'confederacy', ',', 'in', 'a', 'state', 'of', 'separation', '?', 'Have', 'we', 'not', 'already', 'seen', 'enough', 'of', 'the', 'fallacy', 'and', 'extravagance', 'of', 'those', 'idle', 'theories', 'which', 'have', 'amused', 'us', 'with', 'promises', 'of', 'an', 'exemption', 'from', 'the', 'imperfections', ',', 'weaknesses', 'and', 'evils', 'incident', 'to', 'society', 'in', 'every', 'shape', '?']\n",
      "[NeMo I 2024-03-19 19:41:32 text_classification_dataset:240] subtokens: [CLS] there have been , if i may so express it , almost as many popular as royal wars . the cries of the nation and the import ##uni ##ties of their representatives have , upon various occasions , dragged their monarchs into war , or continued them in it , contrary to their inclination ##s , and sometimes contrary to the real interests of the state . in that memorable struggle for superiority between the rival houses of austria and bourbon , which so long kept europe in a flame , it is well known that the anti ##path ##ies of the english against the french , second ##ing the ambition , or rather the ava ##rice , of a favorite leader , 10 pro ##tracted the [SEP]\n",
      "[NeMo I 2024-03-19 19:41:32 text_classification_dataset:241] input_ids: 101 2045 2031 2042 1010 2065 1045 2089 2061 4671 2009 1010 2471 2004 2116 2759 2004 2548 5233 1012 1996 12842 1997 1996 3842 1998 1996 12324 19496 7368 1997 2037 4505 2031 1010 2588 2536 6642 1010 7944 2037 19799 2046 2162 1010 2030 2506 2068 1999 2009 1010 10043 2000 2037 21970 2015 1010 1998 2823 10043 2000 1996 2613 5426 1997 1996 2110 1012 1999 2008 13432 5998 2005 19113 2090 1996 6538 3506 1997 5118 1998 15477 1010 2029 2061 2146 2921 2885 1999 1037 8457 1010 2009 2003 2092 2124 2008 1996 3424 15069 3111 1997 1996 2394 2114 1996 2413 1010 2117 2075 1996 16290 1010 2030 2738 1996 10927 17599 1010 1997 1037 5440 3003 1010 2184 4013 24301 1996 102\n",
      "[NeMo I 2024-03-19 19:41:32 text_classification_dataset:242] segment_ids: 0 0 0 0 0 0 0 0 0 0 0 0 0 0 0 0 0 0 0 0 0 0 0 0 0 0 0 0 0 0 0 0 0 0 0 0 0 0 0 0 0 0 0 0 0 0 0 0 0 0 0 0 0 0 0 0 0 0 0 0 0 0 0 0 0 0 0 0 0 0 0 0 0 0 0 0 0 0 0 0 0 0 0 0 0 0 0 0 0 0 0 0 0 0 0 0 0 0 0 0 0 0 0 0 0 0 0 0 0 0 0 0 0 0 0 0 0 0 0 0 0 0 0 0 0 0 0 0 0\n",
      "[NeMo I 2024-03-19 19:41:32 text_classification_dataset:243] input_mask: 1 1 1 1 1 1 1 1 1 1 1 1 1 1 1 1 1 1 1 1 1 1 1 1 1 1 1 1 1 1 1 1 1 1 1 1 1 1 1 1 1 1 1 1 1 1 1 1 1 1 1 1 1 1 1 1 1 1 1 1 1 1 1 1 1 1 1 1 1 1 1 1 1 1 1 1 1 1 1 1 1 1 1 1 1 1 1 1 1 1 1 1 1 1 1 1 1 1 1 1 1 1 1 1 1 1 1 1 1 1 1 1 1 1 1 1 1 1 1 1 1 1 1 1 1 1 1 1 1\n",
      "[NeMo I 2024-03-19 19:41:32 text_classification_dataset:244] label: 0\n",
      "[NeMo I 2024-03-19 19:41:32 text_classification_dataset:238] *** Example ***\n",
      "[NeMo I 2024-03-19 19:41:32 text_classification_dataset:239] example 1: ['They', 'would', ',', 'at', 'the', 'same', 'time', ',', 'be', 'necessitated', 'to', 'strengthen', 'the', 'executive', 'arm', 'of', 'government', ',', 'in', 'doing', 'which', 'their', 'constitutions', 'would', 'acquire', 'a', 'progressive', 'direction', 'toward', 'monarchy', '.It', 'is', 'of', 'the', 'nature', 'of', 'war', 'to', 'increase', 'the', 'executive', 'at', 'the', 'expense', 'of', 'the', 'legislative', 'authority', '.The', 'expedients', 'which', 'have', 'been', 'mentioned', 'would', 'soon', 'give', 'the', 'States', 'or', 'confederacies', 'that', 'made', 'use', 'of', 'them', 'a', 'superiority', 'over', 'their', 'neighbors', '.Small', 'states', ',', 'or', 'states', 'of', 'less', 'natural', 'strength', ',', 'under', 'vigorous', 'governments', ',', 'and', 'with', 'the', 'assistance', 'of', 'disciplined', 'armies', ',', 'have', 'often', 'triumphed', 'over', 'large', 'states', ',', 'or', 'states', 'of', 'greater', 'natural', 'strength', ',', 'which', 'have', 'been', 'destitute', 'of', 'these', 'advantages', '.Neither', 'the', 'pride', 'nor', 'the', 'safety', 'of', 'the', 'more', 'important', 'States', 'or', 'confederacies', 'would', 'permit', 'them', 'long', 'to', 'submit', 'to', 'this', 'mortifying', 'and', 'adventitious', 'superiority', '.They', 'would', 'quickly', 'resort', 'to', 'means', 'similar', 'to', 'those', 'by', 'which', 'it', 'had', 'been', 'effected', ',', 'to', 'reinstate', 'themselves', 'in', 'their', 'lost', 'pre-eminence', '.Thus', ',', 'we', 'should', ',', 'in', 'a', 'little', 'time', ',', 'see', 'established', 'in', 'every', 'part', 'of', 'this', 'country', 'the', 'same', 'engines', 'of', 'despotism', 'which', 'have', 'been', 'the', 'scourge', 'of', 'the', 'Old', 'World', '.This', ',', 'at', 'least', ',', 'would', 'be', 'the', 'natural', 'course', 'of', 'things', ';', 'and', 'our', 'reasonings', 'will', 'be', 'the', 'more', 'likely', 'to', 'be', 'just', ',', 'in', 'proportion', 'as', 'they', 'are', 'accommodated', 'to', 'this', 'standard', '.These', 'are', 'not', 'vague', 'inferences', 'drawn', 'from', 'supposed', 'or', 'speculative', 'defects', 'in', 'a', 'Constitution', ',', 'the', 'whole', 'power', 'of', 'which', 'is', 'lodged', 'in', 'the', 'hands', 'of', 'a', 'people', ',', 'or', 'their', 'representatives', 'and', 'delegates', ',', 'but', 'they', 'are', 'solid', 'conclusions', ',', 'drawn', 'from', 'the', 'natural', 'and', 'necessary', 'progress', 'of', 'human', 'affairs', '.']\n",
      "[NeMo I 2024-03-19 19:41:32 text_classification_dataset:240] subtokens: [CLS] they would , at the same time , be necessitated to strengthen the executive arm of government , in doing which their constitution ##s would acquire a progressive direction toward monarchy . it is of the nature of war to increase the executive at the expense of the legislative authority . the ex ##ped ##ient ##s which have been mentioned would soon give the states or con ##fed ##era ##cies that made use of them a superiority over their neighbors . small states , or states of less natural strength , under vigorous governments , and with the assistance of disciplined armies , have often triumph ##ed over large states , or states of greater natural strength , which have been des ##ti ##tute of these advantages [SEP]\n",
      "[NeMo I 2024-03-19 19:41:32 text_classification_dataset:241] input_ids: 101 2027 2052 1010 2012 1996 2168 2051 1010 2022 29611 2000 12919 1996 3237 2849 1997 2231 1010 1999 2725 2029 2037 4552 2015 2052 9878 1037 6555 3257 2646 12078 1012 2009 2003 1997 1996 3267 1997 2162 2000 3623 1996 3237 2012 1996 10961 1997 1996 4884 3691 1012 1996 4654 5669 11638 2015 2029 2031 2042 3855 2052 2574 2507 1996 2163 2030 9530 25031 6906 9243 2008 2081 2224 1997 2068 1037 19113 2058 2037 10638 1012 2235 2163 1010 2030 2163 1997 2625 3019 3997 1010 2104 21813 6867 1010 1998 2007 1996 5375 1997 28675 8749 1010 2031 2411 10911 2098 2058 2312 2163 1010 2030 2163 1997 3618 3019 3997 1010 2029 2031 2042 4078 3775 24518 1997 2122 12637 102\n",
      "[NeMo I 2024-03-19 19:41:32 text_classification_dataset:242] segment_ids: 0 0 0 0 0 0 0 0 0 0 0 0 0 0 0 0 0 0 0 0 0 0 0 0 0 0 0 0 0 0 0 0 0 0 0 0 0 0 0 0 0 0 0 0 0 0 0 0 0 0 0 0 0 0 0 0 0 0 0 0 0 0 0 0 0 0 0 0 0 0 0 0 0 0 0 0 0 0 0 0 0 0 0 0 0 0 0 0 0 0 0 0 0 0 0 0 0 0 0 0 0 0 0 0 0 0 0 0 0 0 0 0 0 0 0 0 0 0 0 0 0 0 0 0 0 0 0 0 0\n",
      "[NeMo I 2024-03-19 19:41:32 text_classification_dataset:243] input_mask: 1 1 1 1 1 1 1 1 1 1 1 1 1 1 1 1 1 1 1 1 1 1 1 1 1 1 1 1 1 1 1 1 1 1 1 1 1 1 1 1 1 1 1 1 1 1 1 1 1 1 1 1 1 1 1 1 1 1 1 1 1 1 1 1 1 1 1 1 1 1 1 1 1 1 1 1 1 1 1 1 1 1 1 1 1 1 1 1 1 1 1 1 1 1 1 1 1 1 1 1 1 1 1 1 1 1 1 1 1 1 1 1 1 1 1 1 1 1 1 1 1 1 1 1 1 1 1 1 1\n",
      "[NeMo I 2024-03-19 19:41:32 text_classification_dataset:244] label: 0\n",
      "[NeMo W 2024-03-19 19:41:34 text_classification_dataset:250] Found 115 out of 115 sentences with more than 128 subtokens. Truncated long sentences from the end.\n",
      "[NeMo I 2024-03-19 19:41:34 data_preprocessing:299] Some stats of the lengths of the sequences:\n",
      "[NeMo I 2024-03-19 19:41:34 data_preprocessing:301] Min: 129 |                  Max: 129 |                  Mean: 129.0 |                  Median: 129.0\n",
      "[NeMo I 2024-03-19 19:41:34 data_preprocessing:307] 75 percentile: 129.00\n",
      "[NeMo I 2024-03-19 19:41:34 data_preprocessing:308] 99 percentile: 129.00\n",
      "[NeMo I 2024-03-19 19:41:34 text_classification_model:216] Dataloader config or file_path for the test is missing, so no data loader for test is created!\n",
      "[NeMo W 2024-03-19 19:41:34 modelPT:197] You tried to register an artifact under config key=tokenizer.vocab_file but an artifact forit has already been registered.\n",
      "[NeMo W 2024-03-19 19:41:34 nemo_logging:349] /opt/conda/lib/python3.8/site-packages/nemo/core/classes/modelPT.py:243: UserWarning: update_node() is deprecated, use OmegaConf.update(). (Since 2.0)\n",
      "      self.cfg.update_node(config_path, return_path)\n",
      "    \n",
      "Some weights of the model checkpoint at bert-base-uncased were not used when initializing BertModel: ['cls.predictions.decoder.weight', 'cls.predictions.transform.dense.weight', 'cls.predictions.transform.LayerNorm.bias', 'cls.predictions.transform.LayerNorm.weight', 'cls.predictions.bias', 'cls.seq_relationship.weight', 'cls.seq_relationship.bias', 'cls.predictions.transform.dense.bias']\n",
      "- This IS expected if you are initializing BertModel from the checkpoint of a model trained on another task or with another architecture (e.g. initializing a BertForSequenceClassification model from a BertForPreTraining model).\n",
      "- This IS NOT expected if you are initializing BertModel from the checkpoint of a model that you expect to be exactly identical (initializing a BertForSequenceClassification model from a BertForSequenceClassification model).\n",
      "Some weights of the model checkpoint at bert-base-uncased were not used when initializing BertEncoder: ['cls.predictions.decoder.weight', 'cls.predictions.transform.dense.weight', 'cls.predictions.transform.LayerNorm.bias', 'cls.predictions.transform.LayerNorm.weight', 'cls.predictions.bias', 'cls.seq_relationship.weight', 'cls.seq_relationship.bias', 'cls.predictions.transform.dense.bias']\n",
      "- This IS expected if you are initializing BertEncoder from the checkpoint of a model trained on another task or with another architecture (e.g. initializing a BertForSequenceClassification model from a BertForPreTraining model).\n",
      "- This IS NOT expected if you are initializing BertEncoder from the checkpoint of a model that you expect to be exactly identical (initializing a BertForSequenceClassification model from a BertForSequenceClassification model).\n",
      "[NeMo I 2024-03-19 19:41:35 text_classification_with_bert:118] ===========================================================================================\n",
      "[NeMo I 2024-03-19 19:41:35 text_classification_with_bert:119] Starting training...\n",
      "LOCAL_RANK: 0 - CUDA_VISIBLE_DEVICES: [0]\n",
      "[NeMo I 2024-03-19 19:41:36 modelPT:748] Optimizer config = Adam (\n",
      "    Parameter Group 0\n",
      "        amsgrad: False\n",
      "        betas: [0.9, 0.999]\n",
      "        eps: 1e-08\n",
      "        lr: 2e-05\n",
      "        weight_decay: 0.01\n",
      "    )\n",
      "[NeMo I 2024-03-19 19:41:36 lr_scheduler:617] Scheduler \"<nemo.core.optim.lr_scheduler.WarmupAnnealing object at 0x7eff3f970790>\" \n",
      "    will be used during training (effective maximum steps = 80) - \n",
      "    Parameters : \n",
      "    (warmup_steps: null\n",
      "    warmup_ratio: 0.1\n",
      "    last_epoch: -1\n",
      "    max_steps: 80\n",
      "    )\n",
      "initializing ddp: GLOBAL_RANK: 0, MEMBER: 1/1\n",
      "Added key: store_based_barrier_key:1 to store for rank: 0\n",
      "\n",
      "  | Name                  | Type                 | Params\n",
      "---------------------------------------------------------------\n",
      "0 | loss                  | CrossEntropyLoss     | 0     \n",
      "1 | bert_model            | BertEncoder          | 109 M \n",
      "2 | classifier            | SequenceClassifier   | 592 K \n",
      "3 | classification_report | ClassificationReport | 0     \n",
      "---------------------------------------------------------------\n",
      "110 M     Trainable params\n",
      "0         Non-trainable params\n",
      "110 M     Total params\n",
      "440.297   Total estimated model params size (MB)\n",
      "Epoch 0:  80%|▊| 16/20 [00:02<00:00,  5.55it/s, loss=0.629, v_num=1-22, lr=1.83e\n",
      "Validating: 0it [00:00, ?it/s]\u001b[A\n",
      "Validating:   0%|                                         | 0/4 [00:00<?, ?it/s]\u001b[A\n",
      "Epoch 0:  90%|▉| 18/20 [00:03<00:00,  6.00it/s, loss=0.629, v_num=1-22, lr=1.83e\u001b[A\n",
      "Validating: 100%|█████████████████████████████████| 4/4 [00:00<00:00, 19.00it/s]\u001b[A[NeMo I 2024-03-19 19:41:40 text_classification_model:165] val_report: \n",
      "    label                                                precision    recall       f1           support   \n",
      "    label_id: 0                                             77.39     100.00      87.25         89\n",
      "    label_id: 1                                              0.00       0.00       0.00         26\n",
      "    -------------------\n",
      "    micro avg                                               77.39      77.39      77.39        115\n",
      "    macro avg                                               38.70      50.00      43.63        115\n",
      "    weighted avg                                            59.89      77.39      67.53        115\n",
      "    \n",
      "Epoch 0: 100%|█| 20/20 [00:03<00:00,  6.36it/s, loss=0.629, v_num=1-22, lr=1.81e\n",
      "                                                                                \u001b[AEpoch 0, global step 15: val_loss reached 0.62098 (best 0.62098), saving model to \"/dli/task/nemo_experiments/TextClassification/2024-03-19_19-41-22/checkpoints/TextClassification--val_loss=0.62-epoch=0.ckpt\" as top 3\n",
      "Epoch 1:  80%|▊| 16/20 [00:02<00:00,  6.90it/s, loss=0.583, v_num=1-22, lr=1.39e\n",
      "Validating: 0it [00:00, ?it/s]\u001b[A\n",
      "Validating:   0%|                                         | 0/4 [00:00<?, ?it/s]\u001b[A\n",
      "Epoch 1:  90%|▉| 18/20 [00:02<00:00,  7.38it/s, loss=0.583, v_num=1-22, lr=1.39e\u001b[A\n",
      "Validating: 100%|█████████████████████████████████| 4/4 [00:00<00:00, 18.92it/s]\u001b[A[NeMo I 2024-03-19 19:41:46 text_classification_model:165] val_report: \n",
      "    label                                                precision    recall       f1           support   \n",
      "    label_id: 0                                             77.39     100.00      87.25         89\n",
      "    label_id: 1                                              0.00       0.00       0.00         26\n",
      "    -------------------\n",
      "    micro avg                                               77.39      77.39      77.39        115\n",
      "    macro avg                                               38.70      50.00      43.63        115\n",
      "    weighted avg                                            59.89      77.39      67.53        115\n",
      "    \n",
      "Epoch 1: 100%|█| 20/20 [00:02<00:00,  7.75it/s, loss=0.583, v_num=1-22, lr=1.36e\n",
      "                                                                                \u001b[AEpoch 1, global step 31: val_loss reached 0.60731 (best 0.60731), saving model to \"/dli/task/nemo_experiments/TextClassification/2024-03-19_19-41-22/checkpoints/TextClassification--val_loss=0.61-epoch=1.ckpt\" as top 3\n",
      "Epoch 2:  80%|▊| 16/20 [00:02<00:00,  6.82it/s, loss=0.574, v_num=1-22, lr=9.44e\n",
      "Validating: 0it [00:00, ?it/s]\u001b[A\n",
      "Validating:   0%|                                         | 0/4 [00:00<?, ?it/s]\u001b[A\n",
      "Epoch 2:  90%|▉| 18/20 [00:02<00:00,  7.27it/s, loss=0.574, v_num=1-22, lr=9.44e\u001b[A\n",
      "Validating: 100%|█████████████████████████████████| 4/4 [00:00<00:00, 18.36it/s]\u001b[A[NeMo I 2024-03-19 19:41:53 text_classification_model:165] val_report: \n",
      "    label                                                precision    recall       f1           support   \n",
      "    label_id: 0                                             77.39     100.00      87.25         89\n",
      "    label_id: 1                                              0.00       0.00       0.00         26\n",
      "    -------------------\n",
      "    micro avg                                               77.39      77.39      77.39        115\n",
      "    macro avg                                               38.70      50.00      43.63        115\n",
      "    weighted avg                                            59.89      77.39      67.53        115\n",
      "    \n",
      "Epoch 2: 100%|█| 20/20 [00:02<00:00,  7.64it/s, loss=0.574, v_num=1-22, lr=9.17e\n",
      "                                                                                \u001b[AEpoch 2, global step 47: val_loss reached 0.59375 (best 0.59375), saving model to \"/dli/task/nemo_experiments/TextClassification/2024-03-19_19-41-22/checkpoints/TextClassification--val_loss=0.59-epoch=2.ckpt\" as top 3\n",
      "Epoch 3:  80%|▊| 16/20 [00:02<00:00,  6.84it/s, loss=0.549, v_num=1-22, lr=5e-6,\n",
      "Validating: 0it [00:00, ?it/s]\u001b[A\n",
      "Validating:   0%|                                         | 0/4 [00:00<?, ?it/s]\u001b[A\n",
      "Epoch 3:  90%|▉| 18/20 [00:02<00:00,  7.31it/s, loss=0.549, v_num=1-22, lr=5e-6,\u001b[A\n",
      "Validating: 100%|█████████████████████████████████| 4/4 [00:00<00:00, 19.17it/s]\u001b[A[NeMo I 2024-03-19 19:41:59 text_classification_model:165] val_report: \n",
      "    label                                                precision    recall       f1           support   \n",
      "    label_id: 0                                             77.39     100.00      87.25         89\n",
      "    label_id: 1                                              0.00       0.00       0.00         26\n",
      "    -------------------\n",
      "    micro avg                                               77.39      77.39      77.39        115\n",
      "    macro avg                                               38.70      50.00      43.63        115\n",
      "    weighted avg                                            59.89      77.39      67.53        115\n",
      "    \n",
      "Epoch 3: 100%|█| 20/20 [00:02<00:00,  7.69it/s, loss=0.549, v_num=1-22, lr=4.72e\n",
      "                                                                                \u001b[AEpoch 3, global step 63: val_loss reached 0.59626 (best 0.59375), saving model to \"/dli/task/nemo_experiments/TextClassification/2024-03-19_19-41-22/checkpoints/TextClassification--val_loss=0.60-epoch=3.ckpt\" as top 3\n",
      "Epoch 4:  80%|▊| 16/20 [00:02<00:00,  6.81it/s, loss=0.556, v_num=1-22, lr=5.56e\n",
      "Validating: 0it [00:00, ?it/s]\u001b[A\n",
      "Validating:   0%|                                         | 0/4 [00:00<?, ?it/s]\u001b[A\n",
      "Epoch 4:  90%|▉| 18/20 [00:02<00:00,  7.28it/s, loss=0.556, v_num=1-22, lr=5.56e\u001b[A\n",
      "Validating: 100%|█████████████████████████████████| 4/4 [00:00<00:00, 18.85it/s]\u001b[A[NeMo I 2024-03-19 19:42:06 text_classification_model:165] val_report: \n",
      "    label                                                precision    recall       f1           support   \n",
      "    label_id: 0                                             77.39     100.00      87.25         89\n",
      "    label_id: 1                                              0.00       0.00       0.00         26\n",
      "    -------------------\n",
      "    micro avg                                               77.39      77.39      77.39        115\n",
      "    macro avg                                               38.70      50.00      43.63        115\n",
      "    weighted avg                                            59.89      77.39      67.53        115\n",
      "    \n",
      "Epoch 4: 100%|█| 20/20 [00:02<00:00,  7.62it/s, loss=0.556, v_num=1-22, lr=2.78e\n",
      "                                                                                \u001b[AEpoch 4, global step 79: val_loss reached 0.58678 (best 0.58678), saving model to \"/dli/task/nemo_experiments/TextClassification/2024-03-19_19-41-22/checkpoints/TextClassification--val_loss=0.59-epoch=4.ckpt\" as top 3\n",
      "Saving latest checkpoint...\n",
      "Epoch 4: 100%|█| 20/20 [00:06<00:00,  2.92it/s, loss=0.556, v_num=1-22, lr=2.78e\n",
      "[NeMo W 2024-03-19 19:42:10 nemo_logging:349] /opt/conda/lib/python3.8/site-packages/nemo/core/classes/modelPT.py:308: UserWarning: update_node() is deprecated, use OmegaConf.update(). (Since 2.0)\n",
      "      conf.update_node(conf_path, item.path)\n",
      "    \n",
      "[NeMo I 2024-03-19 19:42:32 text_classification_with_bert:121] Training finished!\n",
      "[NeMo I 2024-03-19 19:42:32 text_classification_with_bert:122] ===========================================================================================\n",
      "[NeMo I 2024-03-19 19:43:00 text_classification_with_bert:127] Model is saved into `.nemo` file: text_classification_model.nemo\n",
      "CPU times: user 880 ms, sys: 382 ms, total: 1.26 s\n",
      "Wall time: 1min 41s\n"
     ]
    }
   ],
   "source": [
    "%%time\n",
    "# Run the training script, overriding the config values in the command line\n",
    "TC_DIR = \"/dli/task/nemo/examples/nlp/text_classification\"\n",
    "\n",
    "# Setting the training parameters\n",
    "!python $TC_DIR/text_classification_with_bert.py \\\n",
    "model.dataset.num_classes=$NUM_CLASSES \\\n",
    "model.dataset.max_seq_length=$MAX_SEQ_LENGTH \\\n",
    "model.train_ds.file_path=$PATH_TO_TRAIN_FILE \\\n",
    "model.validation_ds.file_path=$PATH_TO_VAL_FILE \\\n",
    "model.infer_samples=[] \\\n",
    "trainer.max_epochs=$MAX_EPOCHS \\\n",
    "model.language_model.pretrained_model_name=$PRETRAINED_MODEL_NAME \\\n",
    "model.train_ds.batch_size=32 \\\n",
    "model.validation_ds.batch_size=32 \\\n",
    "trainer.amp_level='O1' \\\n",
    "trainer.precision=16  "
   ]
  },
  {
   "cell_type": "code",
   "execution_count": 26,
   "metadata": {},
   "outputs": [],
   "source": [
    "cmd_log = os.path.join(os.path.dirname(os.path.dirname(get_latest_model())),'cmd-args.log')\n",
    "lightning_logs = os.path.join(os.path.dirname(os.path.dirname(get_latest_model())),'lightning_logs.txt')\n",
    "\n",
    "with open(cmd_log, \"r\") as f:\n",
    "    cmd = f.read()\n",
    "    cmd_list = cmd.split()\n",
    "with open(\"my_analysis/step4.json\", \"w\") as outfile: \n",
    "    json.dump(cmd_list, outfile) \n",
    "    \n",
    "with open(lightning_logs, \"r\") as f:\n",
    "    log = f.readlines()\n",
    "with open(\"my_analysis/step4_lightning.json\", \"w\") as outfile:\n",
    "    json.dump(log, outfile)"
   ]
  },
  {
   "cell_type": "markdown",
   "metadata": {},
   "source": [
    "---\n",
    "# Step 5: Infer"
   ]
  },
  {
   "cell_type": "markdown",
   "metadata": {},
   "source": [
    "### Run Inference (graded)\n",
    "Run the inference blocks to see and save the results. (Note: there is nothing to fix here)"
   ]
  },
  {
   "cell_type": "code",
   "execution_count": 27,
   "metadata": {
    "scrolled": true,
    "tags": []
   },
   "outputs": [
    {
     "name": "stderr",
     "output_type": "stream",
     "text": [
      "Using bos_token, but it is not set yet.\n",
      "Using eos_token, but it is not set yet.\n",
      "[NeMo W 2024-03-19 19:43:50 modelPT:137] If you intend to do training or fine-tuning, please call the ModelPT.setup_training_data() method and provide a valid configuration file to setup the train data loader.\n",
      "    Train config : \n",
      "    file_path: /dli/task/data/federalist_papers_HM/train_nemo_format.tsv\n",
      "    batch_size: 32\n",
      "    shuffle: true\n",
      "    num_samples: -1\n",
      "    num_workers: 3\n",
      "    drop_last: false\n",
      "    pin_memory: false\n",
      "    \n",
      "[NeMo W 2024-03-19 19:43:50 modelPT:144] If you intend to do validation, please call the ModelPT.setup_validation_data() or ModelPT.setup_multiple_validation_data() method and provide a valid configuration file to setup the validation data loader(s). \n",
      "    Validation config : \n",
      "    file_path: /dli/task/data/federalist_papers_HM/dev_nemo_format.tsv\n",
      "    batch_size: 32\n",
      "    shuffle: false\n",
      "    num_samples: -1\n",
      "    num_workers: 3\n",
      "    drop_last: false\n",
      "    pin_memory: false\n",
      "    \n",
      "[NeMo W 2024-03-19 19:43:50 modelPT:151] Please call the ModelPT.setup_test_data() or ModelPT.setup_multiple_test_data() method and provide a valid configuration file to setup the test data loader(s).\n",
      "    Test config : \n",
      "    file_path: null\n",
      "    batch_size: 64\n",
      "    shuffle: false\n",
      "    num_samples: -1\n",
      "    num_workers: 3\n",
      "    drop_last: false\n",
      "    pin_memory: false\n",
      "    \n",
      "[NeMo W 2024-03-19 19:43:50 modelPT:1198] World size can only be set by PyTorch Lightning Trainer.\n",
      "[NeMo W 2024-03-19 19:43:50 nemo_logging:349] /opt/conda/lib/python3.8/site-packages/nemo/core/classes/modelPT.py:243: UserWarning: update_node() is deprecated, use OmegaConf.update(). (Since 2.0)\n",
      "      self.cfg.update_node(config_path, return_path)\n",
      "    \n",
      "[NeMo W 2024-03-19 19:43:50 modelPT:197] You tried to register an artifact under config key=tokenizer.vocab_file but an artifact forit has already been registered.\n",
      "Some weights of the model checkpoint at bert-base-uncased were not used when initializing BertModel: ['cls.predictions.decoder.weight', 'cls.predictions.transform.LayerNorm.weight', 'cls.predictions.transform.dense.bias', 'cls.seq_relationship.weight', 'cls.seq_relationship.bias', 'cls.predictions.bias', 'cls.predictions.transform.LayerNorm.bias', 'cls.predictions.transform.dense.weight']\n",
      "- This IS expected if you are initializing BertModel from the checkpoint of a model trained on another task or with another architecture (e.g. initializing a BertForSequenceClassification model from a BertForPreTraining model).\n",
      "- This IS NOT expected if you are initializing BertModel from the checkpoint of a model that you expect to be exactly identical (initializing a BertForSequenceClassification model from a BertForSequenceClassification model).\n"
     ]
    },
    {
     "name": "stdout",
     "output_type": "stream",
     "text": [
      "[NeMo I 2024-03-19 19:43:54 modelPT:434] Model TextClassificationModel was successfully restored from nemo_experiments/TextClassification/2024-03-19_19-41-22/checkpoints/TextClassification.nemo.\n"
     ]
    },
    {
     "name": "stderr",
     "output_type": "stream",
     "text": [
      "[NeMo W 2024-03-19 19:43:54 text_classification_dataset:250] Found 7 out of 7 sentences with more than 256 subtokens. Truncated long sentences from the end.\n",
      "[NeMo W 2024-03-19 19:43:55 text_classification_dataset:250] Found 4 out of 4 sentences with more than 256 subtokens. Truncated long sentences from the end.\n",
      "[NeMo W 2024-03-19 19:43:55 text_classification_dataset:250] Found 7 out of 8 sentences with more than 256 subtokens. Truncated long sentences from the end.\n",
      "[NeMo W 2024-03-19 19:43:55 text_classification_dataset:250] Found 7 out of 7 sentences with more than 256 subtokens. Truncated long sentences from the end.\n",
      "[NeMo W 2024-03-19 19:43:56 text_classification_dataset:250] Found 9 out of 9 sentences with more than 256 subtokens. Truncated long sentences from the end.\n",
      "[NeMo W 2024-03-19 19:43:56 text_classification_dataset:250] Found 8 out of 8 sentences with more than 256 subtokens. Truncated long sentences from the end.\n",
      "[NeMo W 2024-03-19 19:43:56 text_classification_dataset:250] Found 8 out of 8 sentences with more than 256 subtokens. Truncated long sentences from the end.\n",
      "[NeMo W 2024-03-19 19:43:56 text_classification_dataset:250] Found 6 out of 6 sentences with more than 256 subtokens. Truncated long sentences from the end.\n",
      "[NeMo W 2024-03-19 19:43:57 text_classification_dataset:250] Found 9 out of 9 sentences with more than 256 subtokens. Truncated long sentences from the end.\n",
      "[NeMo W 2024-03-19 19:43:57 text_classification_dataset:250] Found 22 out of 22 sentences with more than 256 subtokens. Truncated long sentences from the end.\n"
     ]
    },
    {
     "name": "stdout",
     "output_type": "stream",
     "text": [
      "[[0, 0, 0, 0, 0, 0, 0], [0, 0, 0, 0], [0, 0, 0, 0, 0, 0, 0, 0], [0, 0, 0, 0, 0, 0, 0], [0, 0, 0, 0, 0, 0, 0, 0, 0], [0, 0, 0, 0, 0, 0, 0, 0], [0, 0, 0, 0, 0, 0, 0, 0], [0, 0, 0, 0, 0, 0], [0, 0, 0, 0, 0, 0, 0, 0, 0], [0, 0, 0, 0, 0, 0, 0, 0, 0, 0, 0, 0, 0, 0, 0, 0, 0, 0, 0, 0, 0, 0]]\n"
     ]
    }
   ],
   "source": [
    "from nemo.collections import nlp as nemo_nlp\n",
    "\n",
    "# Instantiate the model by restoring from the latest .nemo checkpoint\n",
    "model = nemo_nlp.models.TextClassificationModel.restore_from(get_latest_model())\n",
    "\n",
    "# Find the latest model path\n",
    "DATA_DIR = '/dli/task/data/federalist_papers_HM'\n",
    "\n",
    "test_files = [\n",
    "    'test49.tsv',\n",
    "    'test50.tsv',\n",
    "    'test51.tsv',\n",
    "    'test52.tsv',\n",
    "    'test53.tsv',\n",
    "    'test54.tsv', \n",
    "    'test55.tsv',\n",
    "    'test56.tsv',\n",
    "    'test57.tsv',\n",
    "    'test62.tsv',\n",
    "]\n",
    "results = []\n",
    "for test_file in test_files:\n",
    "    # get as list and remove header row\n",
    "    filepath = os.path.join(DATA_DIR, test_file)\n",
    "    with open(filepath, \"r\") as f:\n",
    "        lines = f.readlines()\n",
    "    del lines[0]\n",
    "    \n",
    "    results.append(model.classifytext(lines, batch_size = 1, max_seq_length = 256))\n",
    "print(results)"
   ]
  },
  {
   "cell_type": "code",
   "execution_count": 28,
   "metadata": {},
   "outputs": [
    {
     "name": "stdout",
     "output_type": "stream",
     "text": [
      "HAMILTON\n",
      "HAMILTON\n",
      "HAMILTON\n",
      "HAMILTON\n",
      "HAMILTON\n",
      "HAMILTON\n",
      "HAMILTON\n",
      "HAMILTON\n",
      "HAMILTON\n",
      "HAMILTON\n"
     ]
    }
   ],
   "source": [
    "author = []\n",
    "for result in results:\n",
    "    avg_result = sum(result) / len(result)\n",
    "    if avg_result < 0.5:\n",
    "        author.append(\"HAMILTON\")\n",
    "        print(\"HAMILTON\")\n",
    "    else:\n",
    "        author.append(\"MADISON\")\n",
    "        print(\"MADISON\")\n",
    "        \n",
    "with open(\"my_analysis/step5.json\", \"w\") as outfile: \n",
    "    json.dump(author, outfile) "
   ]
  }
 ],
 "metadata": {
  "kernelspec": {
   "display_name": "Python 3 (ipykernel)",
   "language": "python",
   "name": "python3"
  },
  "language_info": {
   "codemirror_mode": {
    "name": "ipython",
    "version": 3
   },
   "file_extension": ".py",
   "mimetype": "text/x-python",
   "name": "python",
   "nbconvert_exporter": "python",
   "pygments_lexer": "ipython3",
   "version": "3.12.4"
  },
  "pycharm": {
   "stem_cell": {
    "cell_type": "raw",
    "metadata": {
     "collapsed": false
    },
    "source": []
   }
  }
 },
 "nbformat": 4,
 "nbformat_minor": 4
}

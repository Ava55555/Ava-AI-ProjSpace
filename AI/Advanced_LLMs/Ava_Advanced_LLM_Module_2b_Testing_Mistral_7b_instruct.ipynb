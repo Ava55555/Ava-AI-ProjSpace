{
 "cells": [
  {
   "cell_type": "code",
   "execution_count": 1,
   "metadata": {
    "id": "7_1AW_Os1iVH"
   },
   "outputs": [],
   "source": [
    "from IPython.display import HTML, display\n",
    "\n",
    "def set_css():\n",
    "  display(HTML('''\n",
    "  <style>\n",
    "    pre {\n",
    "        white-space: pre-wrap;\n",
    "    }\n",
    "  </style>\n",
    "  '''))\n",
    "get_ipython().events.register('pre_run_cell', set_css)"
   ]
  },
  {
   "cell_type": "code",
   "execution_count": 2,
   "metadata": {
    "colab": {
     "base_uri": "https://localhost:8080/",
     "height": 17
    },
    "id": "WFSY3muO0fPk",
    "outputId": "078785e2-d6c7-43f8-908d-997169acb0e2"
   },
   "outputs": [
    {
     "data": {
      "text/html": [
       "\n",
       "  <style>\n",
       "    pre {\n",
       "        white-space: pre-wrap;\n",
       "    }\n",
       "  </style>\n",
       "  "
      ],
      "text/plain": [
       "<IPython.core.display.HTML object>"
      ]
     },
     "metadata": {},
     "output_type": "display_data"
    }
   ],
   "source": [
    "public_url = \"https://a3e0-35-197-119-181.ngrok-free.app\"\n"
   ]
  },
  {
   "cell_type": "code",
   "execution_count": 3,
   "metadata": {
    "colab": {
     "base_uri": "https://localhost:8080/",
     "height": 17
    },
    "id": "9GezPYJ_kvmP",
    "outputId": "25d33751-52dc-4786-90a7-bb5f0587f367"
   },
   "outputs": [
    {
     "name": "stdout",
     "output_type": "stream",
     "text": [
      "Error in callback <function set_css at 0x000001D986BA3880> (for pre_run_cell), with arguments args (<ExecutionInfo object at 1d988253d10, raw_cell=\"##############\n",
      "question = \"What are the difference..\" store_history=True silent=False shell_futures=True cell_id=0dee7499-2d85-431a-a6d0-e703e9570bb0>,),kwargs {}:\n"
     ]
    },
    {
     "ename": "TypeError",
     "evalue": "set_css() takes 0 positional arguments but 1 was given",
     "output_type": "error",
     "traceback": [
      "\u001b[1;31m---------------------------------------------------------------------------\u001b[0m",
      "\u001b[1;31mTypeError\u001b[0m                                 Traceback (most recent call last)",
      "\u001b[1;31mTypeError\u001b[0m: set_css() takes 0 positional arguments but 1 was given"
     ]
    }
   ],
   "source": [
    "##############\n",
    "question = \"What are the differences in work expectations between generations?\"\n",
    "##############\n",
    "\n",
    "\n",
    "context = \"\"\"\n",
    "'Generational differences in work expectations and values are a significant topic of discussion in organizations today. Specifically, the differences between baby boomers and millennials have garnered attention due to their coexistence in the workplace. These generational differences can impact management dynamics at various levels, including operational, team, and strategic levels. Understanding these differences and finding ways to navigate them is crucial for creating a harmonious and productive work environment.\n",
    "\n",
    "1. Contrasting Work Values, Attitudes, and Preferences:\n",
    "Baby Boomers:\n",
    "- Work Values: Baby boomers tend to prioritize loyalty, dedication, and hard work. They often value stability and long-term commitment to their organizations.\n",
    "- Attitudes: Baby boomers may have a more traditional approach to work, valuing hierarchy and authority. They may prefer a structured work environment and clear guidelines.\n",
    "- Preferences: Baby boomers may prefer face-to-face communication and value personal relationships in the workplace. They may also prioritize financial stability and job security.\n",
    "\n",
    "Millennials:\n",
    "- Work Values: Millennials often prioritize work-life balance, personal growth, and purpose-driven work. They seek opportunities for learning and development.\n",
    "- Attitudes: Millennials may have a more collaborative and inclusive approach to work. They value flexibility, autonomy, and a sense of purpose in their roles.\n",
    "- Preferences: Millennials are comfortable with technology and may prefer digital communication channels. They value feedback and recognition and seek a positive and engaging work environment.\n",
    "\n",
    "2. Factors Contributing to Variations:\n",
    "a) Socioeconomic Factors: Socioeconomic factors such as technological advancements, economic conditions, and societal changes can shape the expectations and values of different generations. For example, baby boomers experienced significant economic growth and stability, while millennials entered the workforce during times of economic uncertainty.\n",
    "b) Cultural Influences: Cultural factors, including societal norms, values, and beliefs, can also contribute to generational differences. Each generation grows up in a unique cultural context that influences their perspectives on work.\n",
    "c) Life Experiences: Different life experiences, such as major historical events or technological advancements, can shape the values and attitudes of each generation. For example, baby boomers may have experienced significant social and political changes, while millennials grew up in the digital age.\n",
    "\n",
    "\n",
    "\"\"\"\n"
   ]
  },
  {
   "cell_type": "markdown",
   "metadata": {
    "id": "eIMR9CXajHR4"
   },
   "source": [
    "### FastAPI decorator - mistral_interface"
   ]
  },
  {
   "cell_type": "code",
   "execution_count": 4,
   "metadata": {
    "colab": {
     "base_uri": "https://localhost:8080/",
     "height": 69
    },
    "id": "NWx_V-TaK7Ud",
    "outputId": "b248d78d-9938-413a-cad7-dfe651f18964"
   },
   "outputs": [
    {
     "data": {
      "text/html": [
       "\n",
       "  <style>\n",
       "    pre {\n",
       "        white-space: pre-wrap;\n",
       "    }\n",
       "  </style>\n",
       "  "
      ],
      "text/plain": [
       "<IPython.core.display.HTML object>"
      ]
     },
     "metadata": {},
     "output_type": "display_data"
    },
    {
     "name": "stdout",
     "output_type": "stream",
     "text": [
      "\n",
      "The differences in work expectations between generations can be attributed to their varying values, attitudes, and preferences. Baby boomers tend to prioritize loyalty, dedication, and hard work, while millennials prioritize work-life balance, personal growth, and purpose-driven work. Baby boomers may prefer a structured work environment and clear guidelines, while millennials value flexibility, autonomy, and a sense of purpose in their roles. Additionally, socioeconomic factors, cultural influences, and life experiences can contribute to these differences."
     ]
    }
   ],
   "source": [
    "import requests\n",
    "\n",
    "input_text = {\n",
    "    \"context\": context,\n",
    "    \"question\": question\n",
    "}\n",
    "\n",
    "# Function to fetch streaming response\n",
    "def fetch_data():\n",
    "    response = requests.post(f'{public_url}/mistral-inference', json=input_text, stream=True)\n",
    "    for chunk in response.iter_content(chunk_size=1024):\n",
    "        # Process the data (in this example, simply print the chunks)\n",
    "        print(chunk.decode('utf-8'), end = '')\n",
    "\n",
    "# Call the function to start fetching data\n",
    "fetch_data()\n",
    "\n"
   ]
  }
 ],
 "metadata": {
  "colab": {
   "include_colab_link": true,
   "provenance": []
  },
  "kernelspec": {
   "display_name": "Python 3 (ipykernel)",
   "language": "python",
   "name": "python3"
  },
  "language_info": {
   "codemirror_mode": {
    "name": "ipython",
    "version": 3
   },
   "file_extension": ".py",
   "mimetype": "text/x-python",
   "name": "python",
   "nbconvert_exporter": "python",
   "pygments_lexer": "ipython3",
   "version": "3.12.4"
  }
 },
 "nbformat": 4,
 "nbformat_minor": 4
}
